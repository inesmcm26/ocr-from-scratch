{
  "nbformat": 4,
  "nbformat_minor": 0,
  "metadata": {
    "colab": {
      "provenance": [],
      "mount_file_id": "1DrGAC0USAovJjXrfFK_8QrcIkWHG4rRp",
      "authorship_tag": "ABX9TyM1PH2iP+2z8F32DL7+axp1",
      "include_colab_link": true
    },
    "kernelspec": {
      "name": "python3",
      "display_name": "Python 3"
    },
    "language_info": {
      "name": "python"
    }
  },
  "cells": [
    {
      "cell_type": "markdown",
      "metadata": {
        "id": "view-in-github",
        "colab_type": "text"
      },
      "source": [
        "<a href=\"https://colab.research.google.com/github/inesmcm26/ocr-from-scratch/blob/main/main.ipynb\" target=\"_parent\"><img src=\"https://colab.research.google.com/assets/colab-badge.svg\" alt=\"Open In Colab\"/></a>"
      ]
    },
    {
      "cell_type": "code",
      "execution_count": 24,
      "metadata": {
        "id": "7BT527QF9aHL"
      },
      "outputs": [],
      "source": [
        "# import sys\n",
        "# sys.path.insert(0,'/content/drive/MyDrive/Colab Notebooks/OCR/src')\n",
        "\n",
        "# import function from py file\n",
        "# from utils.py import show_img"
      ]
    },
    {
      "cell_type": "code",
      "source": [
        "# run python files\n",
        "# !python /content/drive/MyDrive/Colab\\ Notebooks/OCR/src/model_definition.py"
      ],
      "metadata": {
        "id": "rzL0z9hGUh0B"
      },
      "execution_count": null,
      "outputs": []
    },
    {
      "cell_type": "code",
      "source": [
        "import os\n",
        "import random\n",
        "from sklearn.model_selection import train_test_split"
      ],
      "metadata": {
        "id": "Unwb2unaWWYu"
      },
      "execution_count": 30,
      "outputs": []
    },
    {
      "cell_type": "markdown",
      "source": [
        "Get list of images"
      ],
      "metadata": {
        "id": "8dF0KKO1cANR"
      }
    },
    {
      "cell_type": "code",
      "source": [
        "IMG_LIST_DIR = '/content/drive/MyDrive/Colab Notebooks/OCR/data/PageImg/'\n",
        "SEG_LIST_DIR = '/content/drive/MyDrive/Colab Notebooks/OCR/data/PageSeg/'\n",
        "\n",
        "image_list = os.listdir(IMG_LIST_DIR)\n",
        "image_list = [filename.split(\".\")[0] for filename in image_list]\n",
        "\n",
        "seg_list = os.listdir(SEG_LIST_DIR)\n",
        "seg_list = [filename.split(\".\")[0] for filename in seg_list]"
      ],
      "metadata": {
        "id": "it3nTEuRO9_t"
      },
      "execution_count": 37,
      "outputs": []
    },
    {
      "cell_type": "markdown",
      "source": [
        "Split data into train and test"
      ],
      "metadata": {
        "id": "LmMGReaLcExJ"
      }
    },
    {
      "cell_type": "code",
      "source": [
        "X_train, X_test, y_train, y_test = train_test_split(image_list, seg_list, test_size = 0.3, shuffle = True)"
      ],
      "metadata": {
        "id": "pxN7LSZvcG7s"
      },
      "execution_count": 38,
      "outputs": []
    },
    {
      "cell_type": "markdown",
      "source": [
        "Import model"
      ],
      "metadata": {
        "id": "ttWywsjofMsN"
      }
    },
    {
      "cell_type": "code",
      "source": [
        "# model=unet()\n",
        "# model.summary()"
      ],
      "metadata": {
        "id": "Yhb2IcByb1OJ"
      },
      "execution_count": null,
      "outputs": []
    }
  ]
}